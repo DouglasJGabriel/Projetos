{
 "cells": [
  {
   "cell_type": "code",
   "execution_count": 16,
   "id": "245b5646",
   "metadata": {},
   "outputs": [],
   "source": [
    "def main():\n",
    "    print(\"Bem-vindo a calculadora, veja as operações disponíveis abaixo: \\n\")\n",
    "    print ('1 - Soma')\n",
    "    print ('2 - Subtração')\n",
    "    print ('3 - Multiplicação')\n",
    "    print ('4 - Divisão')\n",
    "\n",
    "\n",
    "    arg1 = (input ('digite o primeiro número: '))\n",
    "    frase = (input('digite sua operação (1/2/3/4): '))\n",
    "\n",
    "    if frase not in (\"1\",\"2\",\"3\",\"4\"):\n",
    "        print(\"essa operação não existe\")\n",
    "        return\n",
    "    arg2 = (input ('digite o segundo número: '))\n",
    "    resultado = 0\n",
    "\n",
    "\n",
    "    if (frase == '1'):\n",
    "        resultado = (int(arg1) + int(arg2))\n",
    "        print (resultado)\n",
    "    elif (frase == '2'):\n",
    "        resultado = (int(arg1) - int(arg2))\n",
    "        print (resultado)\n",
    "    elif (frase == '3'):\n",
    "        resultado = (int(arg1) * int(arg2))\n",
    "        print (resultado)\n",
    "    elif (frase == '4'):\n",
    "        resultado = (int(arg1) / int(arg2))\n",
    "        print (\"Resultado: \", resultado)"
   ]
  },
  {
   "cell_type": "code",
   "execution_count": 19,
   "id": "a29fa7ec",
   "metadata": {},
   "outputs": [
    {
     "name": "stdout",
     "output_type": "stream",
     "text": [
      "Bem-vindo a calculadora, veja as operações disponíveis abaixo: \n",
      "\n",
      "1 - Soma\n",
      "2 - Subtração\n",
      "3 - Multiplicação\n",
      "4 - Divisão\n",
      "digite o primeiro número: 3\n",
      "digite sua operação (1/2/3/4): 3\n",
      "digite o segundo número: 4\n",
      "12\n"
     ]
    }
   ],
   "source": [
    "main()"
   ]
  },
  {
   "cell_type": "code",
   "execution_count": null,
   "id": "393b1390",
   "metadata": {},
   "outputs": [],
   "source": []
  }
 ],
 "metadata": {
  "kernelspec": {
   "display_name": "Python 3 (ipykernel)",
   "language": "python",
   "name": "python3"
  },
  "language_info": {
   "codemirror_mode": {
    "name": "ipython",
    "version": 3
   },
   "file_extension": ".py",
   "mimetype": "text/x-python",
   "name": "python",
   "nbconvert_exporter": "python",
   "pygments_lexer": "ipython3",
   "version": "3.9.13"
  }
 },
 "nbformat": 4,
 "nbformat_minor": 5
}
