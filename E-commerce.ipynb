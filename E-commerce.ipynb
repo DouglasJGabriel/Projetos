{
 "cells": [
  {
   "cell_type": "markdown",
   "id": "059ea93b",
   "metadata": {},
   "source": [
    "Baseado em alguns dados (relacionado a e-commerce), datados de 2016 a 2018, eu busquei por meio destes uma maneira de expressar quais estados do Brasil tinham os maiores pedidos, para que não ficasse um gráfico muito grande eu limitei para apenas 10 estados. Começando pelo básico, que serão as importações dos pacotes."
   ]
  },
  {
   "cell_type": "code",
   "execution_count": 1,
   "id": "99122a96",
   "metadata": {},
   "outputs": [],
   "source": [
    "import pandas as pd\n",
    "import matplotlib.pyplot as plt\n",
    "import numpy as np"
   ]
  },
  {
   "cell_type": "markdown",
   "id": "9cdeebbd",
   "metadata": {},
   "source": [
    "Começamos inserindo no df os dados ao qual temos as colunas do id do consumidor, o id único do consumidor, código da caixa postal, cidade do consumidor e estado do consumidor (ao qual focaremos aqui apenas estado)"
   ]
  },
  {
   "cell_type": "code",
   "execution_count": 2,
   "id": "431b0aaa",
   "metadata": {},
   "outputs": [],
   "source": [
    "df = pd.read_csv(\"olist_customers_dataset.csv\")"
   ]
  },
  {
   "cell_type": "markdown",
   "id": "9da42cf6",
   "metadata": {},
   "source": [
    "Usando a função head para ter uma noção dos dados que posso usar (estado)"
   ]
  },
  {
   "cell_type": "code",
   "execution_count": 3,
   "id": "dfaf461e",
   "metadata": {},
   "outputs": [
    {
     "data": {
      "text/html": [
       "<div>\n",
       "<style scoped>\n",
       "    .dataframe tbody tr th:only-of-type {\n",
       "        vertical-align: middle;\n",
       "    }\n",
       "\n",
       "    .dataframe tbody tr th {\n",
       "        vertical-align: top;\n",
       "    }\n",
       "\n",
       "    .dataframe thead th {\n",
       "        text-align: right;\n",
       "    }\n",
       "</style>\n",
       "<table border=\"1\" class=\"dataframe\">\n",
       "  <thead>\n",
       "    <tr style=\"text-align: right;\">\n",
       "      <th></th>\n",
       "      <th>customer_id</th>\n",
       "      <th>customer_unique_id</th>\n",
       "      <th>customer_zip_code_prefix</th>\n",
       "      <th>customer_city</th>\n",
       "      <th>customer_state</th>\n",
       "    </tr>\n",
       "  </thead>\n",
       "  <tbody>\n",
       "    <tr>\n",
       "      <th>0</th>\n",
       "      <td>06b8999e2fba1a1fbc88172c00ba8bc7</td>\n",
       "      <td>861eff4711a542e4b93843c6dd7febb0</td>\n",
       "      <td>14409</td>\n",
       "      <td>franca</td>\n",
       "      <td>SP</td>\n",
       "    </tr>\n",
       "    <tr>\n",
       "      <th>1</th>\n",
       "      <td>18955e83d337fd6b2def6b18a428ac77</td>\n",
       "      <td>290c77bc529b7ac935b93aa66c333dc3</td>\n",
       "      <td>9790</td>\n",
       "      <td>sao bernardo do campo</td>\n",
       "      <td>SP</td>\n",
       "    </tr>\n",
       "    <tr>\n",
       "      <th>2</th>\n",
       "      <td>4e7b3e00288586ebd08712fdd0374a03</td>\n",
       "      <td>060e732b5b29e8181a18229c7b0b2b5e</td>\n",
       "      <td>1151</td>\n",
       "      <td>sao paulo</td>\n",
       "      <td>SP</td>\n",
       "    </tr>\n",
       "    <tr>\n",
       "      <th>3</th>\n",
       "      <td>b2b6027bc5c5109e529d4dc6358b12c3</td>\n",
       "      <td>259dac757896d24d7702b9acbbff3f3c</td>\n",
       "      <td>8775</td>\n",
       "      <td>mogi das cruzes</td>\n",
       "      <td>SP</td>\n",
       "    </tr>\n",
       "    <tr>\n",
       "      <th>4</th>\n",
       "      <td>4f2d8ab171c80ec8364f7c12e35b23ad</td>\n",
       "      <td>345ecd01c38d18a9036ed96c73b8d066</td>\n",
       "      <td>13056</td>\n",
       "      <td>campinas</td>\n",
       "      <td>SP</td>\n",
       "    </tr>\n",
       "  </tbody>\n",
       "</table>\n",
       "</div>"
      ],
      "text/plain": [
       "                        customer_id                customer_unique_id  \\\n",
       "0  06b8999e2fba1a1fbc88172c00ba8bc7  861eff4711a542e4b93843c6dd7febb0   \n",
       "1  18955e83d337fd6b2def6b18a428ac77  290c77bc529b7ac935b93aa66c333dc3   \n",
       "2  4e7b3e00288586ebd08712fdd0374a03  060e732b5b29e8181a18229c7b0b2b5e   \n",
       "3  b2b6027bc5c5109e529d4dc6358b12c3  259dac757896d24d7702b9acbbff3f3c   \n",
       "4  4f2d8ab171c80ec8364f7c12e35b23ad  345ecd01c38d18a9036ed96c73b8d066   \n",
       "\n",
       "   customer_zip_code_prefix          customer_city customer_state  \n",
       "0                     14409                 franca             SP  \n",
       "1                      9790  sao bernardo do campo             SP  \n",
       "2                      1151              sao paulo             SP  \n",
       "3                      8775        mogi das cruzes             SP  \n",
       "4                     13056               campinas             SP  "
      ]
     },
     "execution_count": 3,
     "metadata": {},
     "output_type": "execute_result"
    }
   ],
   "source": [
    "df.head()"
   ]
  },
  {
   "cell_type": "markdown",
   "id": "ff9185f1",
   "metadata": {},
   "source": [
    "Inicialmente eu faria apenas os maiores estados que tiveram os maiores pedidos, mas algo que me chamou atenção foram as formas de pagamentos, então acabei pegando também os dados dos pagamentos para utilizá-los mais a frente. Salvei esses dados no df1"
   ]
  },
  {
   "cell_type": "code",
   "execution_count": 4,
   "id": "a7cc7f44",
   "metadata": {},
   "outputs": [],
   "source": [
    "df1 = pd.read_csv(\"olist_order_payments_dataset.csv\")"
   ]
  },
  {
   "cell_type": "markdown",
   "id": "4d7c59b9",
   "metadata": {},
   "source": [
    "E também utilizei a função head para ver quais colunar mais eu poderia utilizar."
   ]
  },
  {
   "cell_type": "code",
   "execution_count": 5,
   "id": "59816ce6",
   "metadata": {},
   "outputs": [
    {
     "data": {
      "text/html": [
       "<div>\n",
       "<style scoped>\n",
       "    .dataframe tbody tr th:only-of-type {\n",
       "        vertical-align: middle;\n",
       "    }\n",
       "\n",
       "    .dataframe tbody tr th {\n",
       "        vertical-align: top;\n",
       "    }\n",
       "\n",
       "    .dataframe thead th {\n",
       "        text-align: right;\n",
       "    }\n",
       "</style>\n",
       "<table border=\"1\" class=\"dataframe\">\n",
       "  <thead>\n",
       "    <tr style=\"text-align: right;\">\n",
       "      <th></th>\n",
       "      <th>order_id</th>\n",
       "      <th>payment_sequential</th>\n",
       "      <th>payment_type</th>\n",
       "      <th>payment_installments</th>\n",
       "      <th>payment_value</th>\n",
       "    </tr>\n",
       "  </thead>\n",
       "  <tbody>\n",
       "    <tr>\n",
       "      <th>0</th>\n",
       "      <td>b81ef226f3fe1789b1e8b2acac839d17</td>\n",
       "      <td>1</td>\n",
       "      <td>credit_card</td>\n",
       "      <td>8</td>\n",
       "      <td>99.33</td>\n",
       "    </tr>\n",
       "    <tr>\n",
       "      <th>1</th>\n",
       "      <td>a9810da82917af2d9aefd1278f1dcfa0</td>\n",
       "      <td>1</td>\n",
       "      <td>credit_card</td>\n",
       "      <td>1</td>\n",
       "      <td>24.39</td>\n",
       "    </tr>\n",
       "    <tr>\n",
       "      <th>2</th>\n",
       "      <td>25e8ea4e93396b6fa0d3dd708e76c1bd</td>\n",
       "      <td>1</td>\n",
       "      <td>credit_card</td>\n",
       "      <td>1</td>\n",
       "      <td>65.71</td>\n",
       "    </tr>\n",
       "    <tr>\n",
       "      <th>3</th>\n",
       "      <td>ba78997921bbcdc1373bb41e913ab953</td>\n",
       "      <td>1</td>\n",
       "      <td>credit_card</td>\n",
       "      <td>8</td>\n",
       "      <td>107.78</td>\n",
       "    </tr>\n",
       "    <tr>\n",
       "      <th>4</th>\n",
       "      <td>42fdf880ba16b47b59251dd489d4441a</td>\n",
       "      <td>1</td>\n",
       "      <td>credit_card</td>\n",
       "      <td>2</td>\n",
       "      <td>128.45</td>\n",
       "    </tr>\n",
       "    <tr>\n",
       "      <th>5</th>\n",
       "      <td>298fcdf1f73eb413e4d26d01b25bc1cd</td>\n",
       "      <td>1</td>\n",
       "      <td>credit_card</td>\n",
       "      <td>2</td>\n",
       "      <td>96.12</td>\n",
       "    </tr>\n",
       "    <tr>\n",
       "      <th>6</th>\n",
       "      <td>771ee386b001f06208a7419e4fc1bbd7</td>\n",
       "      <td>1</td>\n",
       "      <td>credit_card</td>\n",
       "      <td>1</td>\n",
       "      <td>81.16</td>\n",
       "    </tr>\n",
       "    <tr>\n",
       "      <th>7</th>\n",
       "      <td>3d7239c394a212faae122962df514ac7</td>\n",
       "      <td>1</td>\n",
       "      <td>credit_card</td>\n",
       "      <td>3</td>\n",
       "      <td>51.84</td>\n",
       "    </tr>\n",
       "    <tr>\n",
       "      <th>8</th>\n",
       "      <td>1f78449c87a54faf9e96e88ba1491fa9</td>\n",
       "      <td>1</td>\n",
       "      <td>credit_card</td>\n",
       "      <td>6</td>\n",
       "      <td>341.09</td>\n",
       "    </tr>\n",
       "    <tr>\n",
       "      <th>9</th>\n",
       "      <td>0573b5e23cbd798006520e1d5b4c6714</td>\n",
       "      <td>1</td>\n",
       "      <td>boleto</td>\n",
       "      <td>1</td>\n",
       "      <td>51.95</td>\n",
       "    </tr>\n",
       "  </tbody>\n",
       "</table>\n",
       "</div>"
      ],
      "text/plain": [
       "                           order_id  payment_sequential payment_type  \\\n",
       "0  b81ef226f3fe1789b1e8b2acac839d17                   1  credit_card   \n",
       "1  a9810da82917af2d9aefd1278f1dcfa0                   1  credit_card   \n",
       "2  25e8ea4e93396b6fa0d3dd708e76c1bd                   1  credit_card   \n",
       "3  ba78997921bbcdc1373bb41e913ab953                   1  credit_card   \n",
       "4  42fdf880ba16b47b59251dd489d4441a                   1  credit_card   \n",
       "5  298fcdf1f73eb413e4d26d01b25bc1cd                   1  credit_card   \n",
       "6  771ee386b001f06208a7419e4fc1bbd7                   1  credit_card   \n",
       "7  3d7239c394a212faae122962df514ac7                   1  credit_card   \n",
       "8  1f78449c87a54faf9e96e88ba1491fa9                   1  credit_card   \n",
       "9  0573b5e23cbd798006520e1d5b4c6714                   1       boleto   \n",
       "\n",
       "   payment_installments  payment_value  \n",
       "0                     8          99.33  \n",
       "1                     1          24.39  \n",
       "2                     1          65.71  \n",
       "3                     8         107.78  \n",
       "4                     2         128.45  \n",
       "5                     2          96.12  \n",
       "6                     1          81.16  \n",
       "7                     3          51.84  \n",
       "8                     6         341.09  \n",
       "9                     1          51.95  "
      ]
     },
     "execution_count": 5,
     "metadata": {},
     "output_type": "execute_result"
    }
   ],
   "source": [
    "df1.head(10)"
   ]
  },
  {
   "cell_type": "markdown",
   "id": "1011e338",
   "metadata": {},
   "source": [
    "Aqui eu vou me preocupar mais com a quantidade das parcelas do que com o valor ou tipo do pagamento. Levarei em consideração que tanto boleto quanto cartão de crédito parcelado em 1 serão à vista, me preocupando assim somente com a quantidade de parcelas."
   ]
  },
  {
   "cell_type": "markdown",
   "id": "3d559e1c",
   "metadata": {},
   "source": [
    "E adicionando agora salvaremos o último df para pegarmos a coluna que serão das datas ao qual as vendas foram efetuadas (para que possamos contar de forma correta quantas vendas ocorreram nesse período de tempo)"
   ]
  },
  {
   "cell_type": "code",
   "execution_count": 6,
   "id": "31c5ea4b",
   "metadata": {},
   "outputs": [],
   "source": [
    "df2 = pd.read_csv('olist_orders_dataset.csv')"
   ]
  },
  {
   "cell_type": "code",
   "execution_count": 7,
   "id": "8d672849",
   "metadata": {},
   "outputs": [
    {
     "data": {
      "text/html": [
       "<div>\n",
       "<style scoped>\n",
       "    .dataframe tbody tr th:only-of-type {\n",
       "        vertical-align: middle;\n",
       "    }\n",
       "\n",
       "    .dataframe tbody tr th {\n",
       "        vertical-align: top;\n",
       "    }\n",
       "\n",
       "    .dataframe thead th {\n",
       "        text-align: right;\n",
       "    }\n",
       "</style>\n",
       "<table border=\"1\" class=\"dataframe\">\n",
       "  <thead>\n",
       "    <tr style=\"text-align: right;\">\n",
       "      <th></th>\n",
       "      <th>order_id</th>\n",
       "      <th>customer_id</th>\n",
       "      <th>order_status</th>\n",
       "      <th>order_purchase_timestamp</th>\n",
       "      <th>order_approved_at</th>\n",
       "      <th>order_delivered_carrier_date</th>\n",
       "      <th>order_delivered_customer_date</th>\n",
       "      <th>order_estimated_delivery_date</th>\n",
       "    </tr>\n",
       "  </thead>\n",
       "  <tbody>\n",
       "    <tr>\n",
       "      <th>0</th>\n",
       "      <td>e481f51cbdc54678b7cc49136f2d6af7</td>\n",
       "      <td>9ef432eb6251297304e76186b10a928d</td>\n",
       "      <td>delivered</td>\n",
       "      <td>2017-10-02 10:56:33</td>\n",
       "      <td>2017-10-02 11:07:15</td>\n",
       "      <td>2017-10-04 19:55:00</td>\n",
       "      <td>2017-10-10 21:25:13</td>\n",
       "      <td>2017-10-18 00:00:00</td>\n",
       "    </tr>\n",
       "    <tr>\n",
       "      <th>1</th>\n",
       "      <td>53cdb2fc8bc7dce0b6741e2150273451</td>\n",
       "      <td>b0830fb4747a6c6d20dea0b8c802d7ef</td>\n",
       "      <td>delivered</td>\n",
       "      <td>2018-07-24 20:41:37</td>\n",
       "      <td>2018-07-26 03:24:27</td>\n",
       "      <td>2018-07-26 14:31:00</td>\n",
       "      <td>2018-08-07 15:27:45</td>\n",
       "      <td>2018-08-13 00:00:00</td>\n",
       "    </tr>\n",
       "    <tr>\n",
       "      <th>2</th>\n",
       "      <td>47770eb9100c2d0c44946d9cf07ec65d</td>\n",
       "      <td>41ce2a54c0b03bf3443c3d931a367089</td>\n",
       "      <td>delivered</td>\n",
       "      <td>2018-08-08 08:38:49</td>\n",
       "      <td>2018-08-08 08:55:23</td>\n",
       "      <td>2018-08-08 13:50:00</td>\n",
       "      <td>2018-08-17 18:06:29</td>\n",
       "      <td>2018-09-04 00:00:00</td>\n",
       "    </tr>\n",
       "    <tr>\n",
       "      <th>3</th>\n",
       "      <td>949d5b44dbf5de918fe9c16f97b45f8a</td>\n",
       "      <td>f88197465ea7920adcdbec7375364d82</td>\n",
       "      <td>delivered</td>\n",
       "      <td>2017-11-18 19:28:06</td>\n",
       "      <td>2017-11-18 19:45:59</td>\n",
       "      <td>2017-11-22 13:39:59</td>\n",
       "      <td>2017-12-02 00:28:42</td>\n",
       "      <td>2017-12-15 00:00:00</td>\n",
       "    </tr>\n",
       "    <tr>\n",
       "      <th>4</th>\n",
       "      <td>ad21c59c0840e6cb83a9ceb5573f8159</td>\n",
       "      <td>8ab97904e6daea8866dbdbc4fb7aad2c</td>\n",
       "      <td>delivered</td>\n",
       "      <td>2018-02-13 21:18:39</td>\n",
       "      <td>2018-02-13 22:20:29</td>\n",
       "      <td>2018-02-14 19:46:34</td>\n",
       "      <td>2018-02-16 18:17:02</td>\n",
       "      <td>2018-02-26 00:00:00</td>\n",
       "    </tr>\n",
       "  </tbody>\n",
       "</table>\n",
       "</div>"
      ],
      "text/plain": [
       "                           order_id                       customer_id  \\\n",
       "0  e481f51cbdc54678b7cc49136f2d6af7  9ef432eb6251297304e76186b10a928d   \n",
       "1  53cdb2fc8bc7dce0b6741e2150273451  b0830fb4747a6c6d20dea0b8c802d7ef   \n",
       "2  47770eb9100c2d0c44946d9cf07ec65d  41ce2a54c0b03bf3443c3d931a367089   \n",
       "3  949d5b44dbf5de918fe9c16f97b45f8a  f88197465ea7920adcdbec7375364d82   \n",
       "4  ad21c59c0840e6cb83a9ceb5573f8159  8ab97904e6daea8866dbdbc4fb7aad2c   \n",
       "\n",
       "  order_status order_purchase_timestamp    order_approved_at  \\\n",
       "0    delivered      2017-10-02 10:56:33  2017-10-02 11:07:15   \n",
       "1    delivered      2018-07-24 20:41:37  2018-07-26 03:24:27   \n",
       "2    delivered      2018-08-08 08:38:49  2018-08-08 08:55:23   \n",
       "3    delivered      2017-11-18 19:28:06  2017-11-18 19:45:59   \n",
       "4    delivered      2018-02-13 21:18:39  2018-02-13 22:20:29   \n",
       "\n",
       "  order_delivered_carrier_date order_delivered_customer_date  \\\n",
       "0          2017-10-04 19:55:00           2017-10-10 21:25:13   \n",
       "1          2018-07-26 14:31:00           2018-08-07 15:27:45   \n",
       "2          2018-08-08 13:50:00           2018-08-17 18:06:29   \n",
       "3          2017-11-22 13:39:59           2017-12-02 00:28:42   \n",
       "4          2018-02-14 19:46:34           2018-02-16 18:17:02   \n",
       "\n",
       "  order_estimated_delivery_date  \n",
       "0           2017-10-18 00:00:00  \n",
       "1           2018-08-13 00:00:00  \n",
       "2           2018-09-04 00:00:00  \n",
       "3           2017-12-15 00:00:00  \n",
       "4           2018-02-26 00:00:00  "
      ]
     },
     "execution_count": 7,
     "metadata": {},
     "output_type": "execute_result"
    }
   ],
   "source": [
    "df2.head()"
   ]
  },
  {
   "cell_type": "markdown",
   "id": "af61a29b",
   "metadata": {},
   "source": [
    "Aqui estou considerando apenas a data de quando a venda foi concluída, assim minimizando os erros de datas"
   ]
  },
  {
   "cell_type": "markdown",
   "id": "2b6a6581",
   "metadata": {},
   "source": [
    "Agora iremos pegar a coluna do df1 (a quantidade de parcelas, ou como está lá, 'payment_installments') e do df2 (data do pedido, ou como está lá, 'order_approved_at') e passar para o nosso df principal (já nomeando a coluna como \"parcelas\")"
   ]
  },
  {
   "cell_type": "code",
   "execution_count": 8,
   "id": "ae97223d",
   "metadata": {},
   "outputs": [],
   "source": [
    "df_analise = pd.DataFrame()\n",
    "df_analise['estado_cliente'] = df['customer_state']\n",
    "df_analise['parcelas'] = df1['payment_installments']\n",
    "df_analise['data_pedido'] = df2['order_approved_at']"
   ]
  },
  {
   "cell_type": "markdown",
   "id": "0c0d192d",
   "metadata": {},
   "source": [
    "garantindo que está tudo corretamente, usamos mais uma vez a função"
   ]
  },
  {
   "cell_type": "code",
   "execution_count": 9,
   "id": "7e5f3675",
   "metadata": {},
   "outputs": [
    {
     "data": {
      "text/html": [
       "<div>\n",
       "<style scoped>\n",
       "    .dataframe tbody tr th:only-of-type {\n",
       "        vertical-align: middle;\n",
       "    }\n",
       "\n",
       "    .dataframe tbody tr th {\n",
       "        vertical-align: top;\n",
       "    }\n",
       "\n",
       "    .dataframe thead th {\n",
       "        text-align: right;\n",
       "    }\n",
       "</style>\n",
       "<table border=\"1\" class=\"dataframe\">\n",
       "  <thead>\n",
       "    <tr style=\"text-align: right;\">\n",
       "      <th></th>\n",
       "      <th>estado_cliente</th>\n",
       "      <th>parcelas</th>\n",
       "      <th>data_pedido</th>\n",
       "    </tr>\n",
       "  </thead>\n",
       "  <tbody>\n",
       "    <tr>\n",
       "      <th>0</th>\n",
       "      <td>SP</td>\n",
       "      <td>8</td>\n",
       "      <td>2017-10-02 11:07:15</td>\n",
       "    </tr>\n",
       "    <tr>\n",
       "      <th>1</th>\n",
       "      <td>SP</td>\n",
       "      <td>1</td>\n",
       "      <td>2018-07-26 03:24:27</td>\n",
       "    </tr>\n",
       "    <tr>\n",
       "      <th>2</th>\n",
       "      <td>SP</td>\n",
       "      <td>1</td>\n",
       "      <td>2018-08-08 08:55:23</td>\n",
       "    </tr>\n",
       "    <tr>\n",
       "      <th>3</th>\n",
       "      <td>SP</td>\n",
       "      <td>8</td>\n",
       "      <td>2017-11-18 19:45:59</td>\n",
       "    </tr>\n",
       "    <tr>\n",
       "      <th>4</th>\n",
       "      <td>SP</td>\n",
       "      <td>2</td>\n",
       "      <td>2018-02-13 22:20:29</td>\n",
       "    </tr>\n",
       "  </tbody>\n",
       "</table>\n",
       "</div>"
      ],
      "text/plain": [
       "  estado_cliente  parcelas          data_pedido\n",
       "0             SP         8  2017-10-02 11:07:15\n",
       "1             SP         1  2018-07-26 03:24:27\n",
       "2             SP         1  2018-08-08 08:55:23\n",
       "3             SP         8  2017-11-18 19:45:59\n",
       "4             SP         2  2018-02-13 22:20:29"
      ]
     },
     "execution_count": 9,
     "metadata": {},
     "output_type": "execute_result"
    }
   ],
   "source": [
    "df_analise.head()"
   ]
  },
  {
   "cell_type": "markdown",
   "id": "a952556f",
   "metadata": {},
   "source": [
    "Por eu perceber que já teria que repetir ou até mesmo criar muitas variáveis para vários motivos e que isso ficaria muito longo ou até mesmo \"poluido\", resolvi criar funções para que ficasse mais \"limpo\""
   ]
  },
  {
   "cell_type": "code",
   "execution_count": 10,
   "id": "dab1058c",
   "metadata": {},
   "outputs": [],
   "source": [
    "def Figura(posicoes, largura, altura):\n",
    "    posicoes = range(len(posicoes))\n",
    "    plt.figure(figsize=(len(posicoes)* largura, altura))\n",
    "\n",
    "def Plot_Barra(posicoes, altura, largura):\n",
    "    posicoes =  range(len(posicoes))\n",
    "    altura = altura.values\n",
    "    plt.bar(posicoes, altura, width=largura)\n",
    "\n",
    "def Rotacao(posicoes, variavel, rotacao):\n",
    "    posicoes = range(len(posicoes))\n",
    "   \n",
    "    plt.xticks(posicoes, variavel.index, rotation = rotacao)\n",
    "    \n",
    "def Eixos(titulo, x, y):\n",
    "    titulo = plt.title(titulo)\n",
    "    x = plt.xlabel(x)\n",
    "    y = plt.ylabel(y)    "
   ]
  },
  {
   "cell_type": "markdown",
   "id": "a5fff2ee",
   "metadata": {},
   "source": [
    "E logo em seguida já comecei a fazer as linhas de código."
   ]
  },
  {
   "cell_type": "code",
   "execution_count": 11,
   "id": "a84d0f1d",
   "metadata": {},
   "outputs": [
    {
     "data": {
      "image/png": "[encoded data removed]",
      "text/plain": [
       "<Figure size 800x400 with 1 Axes>"
      ]
     },
     "metadata": {},
     "output_type": "display_data"
    }
   ],
   "source": [
    "#calcular o número de pedidos\n",
    "pedido_por_estado = df_analise.groupby('estado_cliente')['data_pedido'].count()\n",
    "\n",
    "#ordenar os estados em ordem decrescente\n",
    "pedido_por_estado= pedido_por_estado.sort_values(ascending = False)\n",
    "\n",
    "#pegar os top 10 estados com maiores pedidos\n",
    "top_estado = pedido_por_estado.head(10)\n",
    "\n",
    "#criar a figura de acordo com os parâmetros\n",
    "Figura(top_estado,0.8,4)\n",
    "\n",
    "#plotar o gráfico de barras\n",
    "Plot_Barra(top_estado, top_estado,0.8)\n",
    "\n",
    "#rotacionar os rótulos de x e adicionar o nome dos estados\n",
    "Rotacao(top_estado,top_estado,80)\n",
    "\n",
    "#adicionar o rótulo aos eixos\n",
    "Eixos('Estados com maiores pedidos de 2016 a 2018', 'Estado', 'Quantidade de pedidos')\n",
    "\n",
    "#mostrando o gráfico\n",
    "plt.show()"
   ]
  },
  {
   "cell_type": "markdown",
   "id": "d06f2f21",
   "metadata": {},
   "source": [
    "Foi então que me veio a dúvida. De todas essas vendas, quantas foram à vista (considerando à vista parcelamentos em 1 vez ou boletos) e quantas foram parceladas?"
   ]
  },
  {
   "cell_type": "markdown",
   "id": "539ddb6e",
   "metadata": {},
   "source": [
    "Nessa parte eu também migrei para criar funções para manter mais \"clean\", mas não poderia usar as que eu já tinha criado por conta de aqui ter parâmetros a mais fora a questão de que aqui usaremos um outro método ao qual não se encaixa nas definições acima (apenas a dos Eixos e Figura poderiam ser reutilizada por ainda manter o mesmo padrão até certo ponto)"
   ]
  },
  {
   "cell_type": "code",
   "execution_count": 12,
   "id": "7a53d8f1",
   "metadata": {},
   "outputs": [],
   "source": [
    "def Barra(arg1, arg2, largura, rotulo):\n",
    "    plt.bar(arg1, arg2, width=largura, label=rotulo)\n",
    "    \n",
    "def Rotac(arg1, largura, variavel, rotacao):\n",
    "    plt.xticks(arg1 + largura / 2, variavel.index, rotation = rotacao)"
   ]
  },
  {
   "cell_type": "code",
   "execution_count": 13,
   "id": "54e179b4",
   "metadata": {},
   "outputs": [
    {
     "data": {
      "image/png": "[encoded data removed]",
      "text/plain": [
       "<Figure size 400x500 with 1 Axes>"
      ]
     },
     "metadata": {},
     "output_type": "display_data"
    }
   ],
   "source": [
    "# Calcular o número total de pedidos por estado\n",
    "pedido_por_estado_total = df_analise.groupby('estado_cliente')['data_pedido'].count()\n",
    "\n",
    "# Calcular o número de pedidos à vista por estado (parcela única)\n",
    "pedidos_vista = df_analise[df_analise['parcelas'] == 1]\n",
    "pedido_vista_por_estado = pedidos_vista.groupby('estado_cliente')['data_pedido'].count()\n",
    "\n",
    "# Calcular o número de pedidos parcelados por estado (mais de uma parcela)\n",
    "pedidos_parcelados = df_analise[df_analise['parcelas'] > 1]\n",
    "pedido_parcelado_por_estado = pedidos_parcelados.groupby('estado_cliente')['data_pedido'].count()\n",
    "\n",
    "# Ordenar os estados em ordem decrescente\n",
    "pedido_por_estado_total = pedido_por_estado_total.sort_values(ascending=False)\n",
    "\n",
    "# Pegar os top 10 estados com maiores pedidos\n",
    "top_estado = pedido_por_estado_total.head(10)\n",
    "\n",
    "# Obter os valores de pedidos à vista e parcelados para os top 10 estados\n",
    "pedidos_vista_top_estado = pedido_vista_por_estado[top_estado.index]\n",
    "pedidos_parcelados_top_estado = pedido_parcelado_por_estado[top_estado.index]\n",
    "\n",
    "# Criar as posições das barras para as categorias de pagamento\n",
    "posicoes_vista = np.arange(len(top_estado))\n",
    "posicoes_parcelados = posicoes_vista + 0.4\n",
    "\n",
    "# Criar a figura do gráfico de barras    \n",
    "Figura(top_estado, 0.4, 5)\n",
    "\n",
    "# Plotar as barras para pedidos à vista e parcelados\n",
    "Barra(posicoes_vista, pedidos_vista_top_estado, 0.4,'À vista' )\n",
    "Barra(posicoes_parcelados, pedidos_parcelados_top_estado, 0.4, 'Parcelado')\n",
    "\n",
    "# Rotacionar os rótulos de x e adicionar o nome dos estados\n",
    "Rotac(posicoes_vista, 0.4, top_estado, 80)\n",
    "\n",
    "# Adicionar o rótulo aos eixos\n",
    "Eixos('Comparação de Pedidos: À vista vs Parcelado', 'Estado', 'Quantidade de Pedidos') \n",
    "\n",
    "#Adicionar legenda\n",
    "plt.legend()\n",
    "\n",
    "# Mostrar o gráfico\n",
    "plt.show()"
   ]
  },
  {
   "cell_type": "markdown",
   "id": "066530dd",
   "metadata": {},
   "source": [
    "Podemos ver que em questão do estado com a maior venda é SP, e que dos top 10 estados com maiores pedidos, eles predominaram com o pagamento à vista, mas com uma diferença \"pouca\" também comparado ao parcelado."
   ]
  }
 ],
 "metadata": {
  "kernelspec": {
   "display_name": "Python 3 (ipykernel)",
   "language": "python",
   "name": "python3"
  },
  "language_info": {
   "codemirror_mode": {
    "name": "ipython",
    "version": 3
   },
   "file_extension": ".py",
   "mimetype": "text/x-python",
   "name": "python",
   "nbconvert_exporter": "python",
   "pygments_lexer": "ipython3",
   "version": "3.9.13"
  }
 },
 "nbformat": 4,
 "nbformat_minor": 5
}
