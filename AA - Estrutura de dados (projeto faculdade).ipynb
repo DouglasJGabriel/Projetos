{
 "cells": [
  {
   "cell_type": "markdown",
   "id": "d13722ca",
   "metadata": {},
   "source": [
    "1. Faça um programa em python com 2 funções principais que receba do usuário uma lista de números.\n",
    "\n",
    "2. Uma primeira função permitirá o usuário digitar um número qualquer e o programa deve procurar esse número na lista. Caso não exista retornara informação que o número não está na lista.\n",
    "\n",
    "3. A segunda função a ser criada fará o programa perguntar ao usuário seele quer a lista ordenada de forma crescente ou decrescente. A listaserá ordenada de acordo com essa escolha e impressa na tela"
   ]
  },
  {
   "cell_type": "code",
   "execution_count": 1,
   "id": "fb1cf4c1",
   "metadata": {},
   "outputs": [
    {
     "name": "stdout",
     "output_type": "stream",
     "text": [
      "Bem-vindo!\n",
      "Digite a quantidade de números na lista: 5\n",
      "Digite o número 1: 5\n",
      "Digite o número 2: 10\n",
      "Digite o número 3: 15\n",
      "Digite o número 4: 20\n",
      "Digite o número 5: 25\n",
      "\n",
      "Digite o número que deseja procurar na lista: 7\n",
      "O número 7 não está na lista.\n",
      "\n",
      "Deseja ordenar a lista de forma crescente ou decrescente? Digite 'c' para crescente ou 'd' para decrescente: D\n",
      "Lista ordenada: [25, 20, 15, 10, 5]\n"
     ]
    }
   ],
   "source": [
    "#Criando uma função para buscar a presença de um número em uma lista.\n",
    "def Procura_Numero(lista, numero):\n",
    "    \n",
    "    #Se o número estiver presente na lista.\n",
    "    if numero in lista:\n",
    "        \n",
    "        #Exibe o conteúdo subsequente.\n",
    "        print(\"O número\", numero, \"está na lista!\")\n",
    "        \n",
    "        #Caso contrário.\n",
    "    else:\n",
    "        \n",
    "        #Exibe o conteúdo subsequente.\n",
    "        print(\"O número\" ,numero, \"não está na lista.\")\n",
    "\n",
    "#Desenvolvendo outra função para ordenar a lista.\n",
    "def Ordenar_Lista(lista, ordem):\n",
    "    \n",
    "    #Se a ordenação for baseada no caracter \"c\"\n",
    "    if ordem == \"c\":\n",
    "        \n",
    "        #Ela ordenará a lista em ordem crescente.\n",
    "        lista_ordenada = sorted(lista)\n",
    "        \n",
    "    #Se a ordenação for baseada no caracter \"d\"\n",
    "    elif ordem == \"d\":\n",
    "        \n",
    "        #Ordenará a lista em ordem DECRESCENTE\n",
    "        lista_ordenada = sorted(lista, reverse=True)\n",
    "        \n",
    "        #Caso nenhuma das opções mencionadas seja escolhida.\n",
    "    else:\n",
    "        \n",
    "        #Exibe uma mensagem indicando que a opção é inválida.\n",
    "        print(\"Opção inválida. A lista permanecerá inalterada.\")\n",
    "        return\n",
    "    \n",
    "    #Exibe a lista ordenada\n",
    "    print(\"Lista ordenada:\", lista_ordenada)\n",
    "\n",
    "#Desenvolvendo a função principal\n",
    "def main():\n",
    "    print(\"Bem-vindo!\")\n",
    "    lista = []\n",
    "    \n",
    "    #Solicita ao usuário que insira a quantidade de números na lista, sendo um número inteiro.\n",
    "    n = int(input(\"Digite a quantidade de números na lista: \"))\n",
    "    \n",
    "    #Para cada elemento no intervalo de 0 a n\n",
    "    for i in range(n):\n",
    "        \n",
    "        #Solicita ao usuário que insira os números correspondentes.\n",
    "        numero = int(input(f\"Digite o número {i + 1}: \"))\n",
    "        \n",
    "        #E os adiciona à lista \n",
    "        lista.append(numero)            \n",
    "        \n",
    "    #Armazenamos o número fornecido pelo usuário na variável \"num_procurar\" como um número inteiro, solicitando que digite o número a ser procurado na lista.\n",
    "    num_procurar = int(input(\"\\nDigite o número que deseja procurar na lista: \"))\n",
    "    \n",
    "    #Neste ponto, utilizando a função \"procura_numero\" ele emprega o valor armazenado da variável \"num_procurar\" e a lista\n",
    "    Procura_Numero(lista, num_procurar)\n",
    "\n",
    "    #Solicitamos ao usuário que escolha se deseja ordenar a lista de forma crescente (c) ou descrescente (d), e aplicamos o \".lower()\" no final para evitar erros caso o input seja maiúsculo, tornando-o minúsculo.\n",
    "    ordem = input(\"\\nDeseja ordenar a lista de forma crescente ou decrescente? Digite 'c' para crescente ou 'd' para decrescente: \").lower()\n",
    "    Ordenar_Lista(lista, ordem)\n",
    "\n",
    "if __name__ == \"__main__\":\n",
    "    main()"
   ]
  },
  {
   "cell_type": "markdown",
   "id": "a08b15a5",
   "metadata": {},
   "source": [
    " "
   ]
  }
 ],
 "metadata": {
  "kernelspec": {
   "display_name": "Python 3 (ipykernel)",
   "language": "python",
   "name": "python3"
  },
  "language_info": {
   "codemirror_mode": {
    "name": "ipython",
    "version": 3
   },
   "file_extension": ".py",
   "mimetype": "text/x-python",
   "name": "python",
   "nbconvert_exporter": "python",
   "pygments_lexer": "ipython3",
   "version": "3.9.13"
  }
 },
 "nbformat": 4,
 "nbformat_minor": 5
}
