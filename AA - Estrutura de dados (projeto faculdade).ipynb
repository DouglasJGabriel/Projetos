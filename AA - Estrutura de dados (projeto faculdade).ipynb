{
 "cells": [
  {
   "cell_type": "markdown",
   "id": "d13722ca",
   "metadata": {},
   "source": [
    "1. Faça um programa em python com 2 funções principais que receba do usuário uma lista de números.\n",
    "\n",
    "2. Uma primeira função permitirá o usuário digitar um número qualquer e o programa deve procurar esse número na lista. Caso não exista retornara informação que o número não está na lista.\n",
    "\n",
    "3. A segunda função a ser criada fará o programa perguntar ao usuário seele quer a lista ordenada de forma crescente ou decrescente. A listaserá ordenada de acordo com essa escolha e impressa na tela"
   ]
  },
  {
   "cell_type": "code",
   "execution_count": 1,
   "id": "fb1cf4c1",
   "metadata": {},
   "outputs": [
    {
     "name": "stdout",
     "output_type": "stream",
     "text": [
      "Bem-vindo!\n",
      "Digite a quantidade de números na lista: 5\n",
      "Digite o número 1: 5\n",
      "Digite o número 2: 10\n",
      "Digite o número 3: 15\n",
      "Digite o número 4: 20\n",
      "Digite o número 5: 25\n",
      "\n",
      "Digite o número que deseja procurar na lista: 7\n",
      "O número 7 não está na lista.\n",
      "\n",
      "Deseja ordenar a lista de forma crescente ou decrescente? Digite 'c' para crescente ou 'd' para decrescente: D\n",
      "Lista ordenada: [25, 20, 15, 10, 5]\n"
     ]
    }
   ],
   "source": [
    "#criando uma função que procure se um número está na lista\n",
    "def Procura_Numero(lista, numero):\n",
    "    \n",
    "    #se o número estiver na lista\n",
    "    if numero in lista:\n",
    "        \n",
    "        #printa o que está abaixo\n",
    "        print(\"O número\", numero, \"está na lista!\")\n",
    "        \n",
    "        #se não\n",
    "    else:\n",
    "        \n",
    "        #printa o que está abaixo\n",
    "        print(\"O número\" ,numero, \"não está na lista.\")\n",
    "\n",
    "#criando outra função para que ordene a lista\n",
    "def Ordenar_Lista(lista, ordem):\n",
    "    \n",
    "    #se a ordem for o caracter \"c\"\n",
    "    if ordem == \"c\":\n",
    "        \n",
    "        #ele ordenará a lista em ordem CRESCENTE\n",
    "        lista_ordenada = sorted(lista)\n",
    "        \n",
    "    #se a ordem for o caracter \"d\"\n",
    "    elif ordem == \"d\":\n",
    "        \n",
    "        #ele ordenará a lista em ordem DECRESCENTE\n",
    "        lista_ordenada = sorted(lista, reverse=True)\n",
    "        \n",
    "        #se não for nenhuma das opções acima\n",
    "    else:\n",
    "        \n",
    "        #printa que a opção é inválida\n",
    "        print(\"Opção inválida. A lista permanecerá inalterada.\")\n",
    "        return\n",
    "    \n",
    "    #printa a lista ordenada\n",
    "    print(\"Lista ordenada:\", lista_ordenada)\n",
    "\n",
    "#criando a função principal\n",
    "def main():\n",
    "    print(\"Bem-vindo!\")\n",
    "    lista = []\n",
    "    \n",
    "    #pede ao usuário para digitar a quantidade de números na lista, sendo ele um número inteiro\n",
    "    n = int(input(\"Digite a quantidade de números na lista: \"))\n",
    "    \n",
    "    #para cada elemento dentro ro range n\n",
    "    for i in range(n):\n",
    "        \n",
    "        #pede ao usuário os números respectivos\n",
    "        numero = int(input(f\"Digite o número {i + 1}: \"))\n",
    "        \n",
    "        #e adiciona a lista \n",
    "        lista.append(numero)            \n",
    "        \n",
    "    #salvamos o número do usuário na variável \"num_procurar\" sendo ele um número inteiro, ele pede para digitar o número que deseja procurar na lista    \n",
    "    num_procurar = int(input(\"\\nDigite o número que deseja procurar na lista: \"))\n",
    "    \n",
    "    #aqui, usando a função \"procura_numero\" ele usa o resultado da variável \"num_procurar\" e a lista\n",
    "    Procura_Numero(lista, num_procurar)\n",
    "\n",
    "    #pedimos ao usuário para que ele escolha se quer ordenar a lista de forma crescente (c) ou descrescente (d), e colocamos o \".lower()\" no final para que se o dígito por maiúsculo não ocorra erro e deixe ele minúsculo \n",
    "    ordem = input(\"\\nDeseja ordenar a lista de forma crescente ou decrescente? Digite 'c' para crescente ou 'd' para decrescente: \").lower()\n",
    "    Ordenar_Lista(lista, ordem)\n",
    "\n",
    "if __name__ == \"__main__\":\n",
    "    main()"
   ]
  },
  {
   "cell_type": "markdown",
   "id": "a08b15a5",
   "metadata": {},
   "source": [
    " "
   ]
  }
 ],
 "metadata": {
  "kernelspec": {
   "display_name": "Python 3 (ipykernel)",
   "language": "python",
   "name": "python3"
  },
  "language_info": {
   "codemirror_mode": {
    "name": "ipython",
    "version": 3
   },
   "file_extension": ".py",
   "mimetype": "text/x-python",
   "name": "python",
   "nbconvert_exporter": "python",
   "pygments_lexer": "ipython3",
   "version": "3.9.13"
  }
 },
 "nbformat": 4,
 "nbformat_minor": 5
}
