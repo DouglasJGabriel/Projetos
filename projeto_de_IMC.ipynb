{
 "cells": [
  {
   "cell_type": "markdown",
   "id": "ea20683b",
   "metadata": {},
   "source": [
    "#irei pesquisar mais sobre como se calcula e como funciona o IMC, em seguida vou tentar fazer o projeto com a ajuda de um pseudocodigo\n",
    "1. Leia o peso da pessoa em kg (variável peso).\n",
    "2. Leia a altura da pessoa em metros (variável altura).\n",
    "3. Calcule o IMC usando a fórmula: IMC = peso / (altura ** 2).\n",
    "4. Imprima o valor do IMC.\n",
    "5. Se o IMC for menor do que 18,5, imprima \"Abaixo do peso\".\n",
    "6. Se o IMC estiver entre 18,5 e 24,9, imprima \"Peso normal\".\n",
    "7. Se o IMC estiver entre 25 e 29,9, imprima \"Sobrepeso\".\n",
    "8. Se o IMC estiver entre 30 e 34,9, imprima \"Obesidade grau 1\".\n",
    "9. Se o IMC estiver entre 35 e 39,9, imprima \"Obesidade grau 2\".\n",
    "10. Se o IMC for maior ou igual a 40, imprima \"Obesidade grau 3\".\n"
   ]
  },
  {
   "cell_type": "code",
   "execution_count": 3,
   "id": "92fd29f3",
   "metadata": {},
   "outputs": [
    {
     "name": "stdout",
     "output_type": "stream",
     "text": [
      "******** IMC (Índice de Massa Corporal) ********\n",
      "\n",
      "Descubra em qual lugar da tabela você está:\n",
      "\n",
      "-IMC menor que 18,5: Abaixo do peso\n",
      "-IMC entre 18,5 e 24,9: Peso normal\n",
      "-IMC entre 25 e 29,9: Sobrepeso\n",
      "-IMC entre 30 e 34,9: Obesidade de grau 1\n",
      "-IMC entre 35 e 39,9: Obesidade de grau 2\n",
      "-IMC acima de 40: Obesidade de grau 3\n",
      "\n",
      "Qual o seu peso? 85\n",
      "\n",
      "Qual sua altura em centímetros? \n",
      "182\n",
      "\n",
      "seu IMC é de:  25.66\n",
      "Sobrepeso\n",
      "\n",
      "Algumas dessas medidas podem variar de acordo com a idade e o sexo da pessoa, mas é importante lembrar que essas medidas são apenas indicadores e não devem ser usadas isoladamente para avaliar a saúde de uma pessoa. É sempre importante consultar um profissional de saúde para obter uma avaliação completa da saúde e bem-estar\n"
     ]
    }
   ],
   "source": [
    "print(\"******** IMC (Índice de Massa Corporal) ********\\n\")\n",
    "print(\"Descubra em qual lugar da tabela você está:\\n\")\n",
    "print(\"-IMC menor que 18,5: Abaixo do peso\\n-IMC entre 18,5 e 24,9: Peso normal\\n-IMC entre 25 e 29,9: Sobrepeso\\n-IMC entre 30 e 34,9: Obesidade de grau 1\\n-IMC entre 35 e 39,9: Obesidade de grau 2\\n-IMC acima de 40: Obesidade de grau 3\")\n",
    "\n",
    "\n",
    "peso = float(input(\"\\nQual o seu peso? \").replace(\",\", \".\"))\n",
    "altura_cm = float(input(\"\\nQual sua altura em centímetros? \\n\").replace(\",\", \".\"))\n",
    "altura_m = altura_cm / 100 #convertendo em metros\n",
    "IMC = (peso / (altura_m)**2)\n",
    "IMC_arredondado = round(IMC,2)\n",
    "print(\"\\nseu IMC é de: \", IMC_arredondado)\n",
    "\n",
    "if IMC < 18.5:\n",
    "    print (\"Abaixo do peso\")\n",
    "if IMC >= 18.5 and IMC <=24.9:\n",
    "    print (\"Peso normal\")\n",
    "if IMC >= 25 and IMC <=29.9:\n",
    "    print (\"Sobrepeso\")\n",
    "if IMC >= 30 and IMC <= 34.9:\n",
    "    print (\"Obesidade de grau 1\")\n",
    "if IMC >= 35 and IMC <= 39.9:\n",
    "    print (\"Obesidade de grau 2\")\n",
    "if IMC >=40:\n",
    "    print (\"Obesidade de grau 3\")\n",
    "    \n",
    "print(\"\\nAlgumas dessas medidas podem variar de acordo com a idade e o sexo da pessoa, mas é importante lembrar que essas medidas são apenas indicadores e não devem ser usadas isoladamente para avaliar a saúde de uma pessoa. É sempre importante consultar um profissional de saúde para obter uma avaliação completa da saúde e bem-estar\")"
   ]
  },
  {
   "cell_type": "code",
   "execution_count": null,
   "id": "462f7775",
   "metadata": {},
   "outputs": [],
   "source": []
  }
 ],
 "metadata": {
  "kernelspec": {
   "display_name": "Python 3 (ipykernel)",
   "language": "python",
   "name": "python3"
  },
  "language_info": {
   "codemirror_mode": {
    "name": "ipython",
    "version": 3
   },
   "file_extension": ".py",
   "mimetype": "text/x-python",
   "name": "python",
   "nbconvert_exporter": "python",
   "pygments_lexer": "ipython3",
   "version": "3.9.13"
  }
 },
 "nbformat": 4,
 "nbformat_minor": 5
}
